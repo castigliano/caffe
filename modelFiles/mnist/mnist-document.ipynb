{
 "metadata": {
  "name": ""
 },
 "nbformat": 3,
 "nbformat_minor": 0,
 "worksheets": [
  {
   "cells": [
    {
     "cell_type": "markdown",
     "metadata": {},
     "source": [
      "<h4> Introduction </h4>\n",
      "\n",
      "The goal is to test whether learning about transformation can help in learning features that are useful for classification or not. I randomly shift and rotate the digits and ask the network to predict the transformation between the pair of images. The pair of digits is constructed by applying this random transformation to the same digit image. \n",
      "\n",
      "The setting where this will be useful is when there are sparse ground truth labels available. "
     ]
    },
    {
     "cell_type": "code",
     "collapsed": false,
     "input": [],
     "language": "python",
     "metadata": {},
     "outputs": []
    }
   ],
   "metadata": {}
  }
 ]
}