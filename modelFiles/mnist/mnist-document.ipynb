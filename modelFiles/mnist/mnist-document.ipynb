{
 "metadata": {
  "name": ""
 },
 "nbformat": 3,
 "nbformat_minor": 0,
 "worksheets": [
  {
   "cells": [
    {
     "cell_type": "markdown",
     "metadata": {},
     "source": [
      "<h4> Introduction </h4>\n",
      "\n",
      "The goal is to test whether learning about transformation can help in learning features that are useful for classification or not. I randomly shift and rotate the digits and ask the network to predict the transformation between the pair of images. The pair of digits is constructed by applying this random transformation to the same digit image. \n",
      "\n",
      "The setting where this will be useful is when there are sparse ground truth labels available. "
     ]
    },
    {
     "cell_type": "code",
     "collapsed": false,
     "input": [
      "#Set the basic paths and loading modules. \n",
      "%matplotlib inline\n",
      "%load_ext autoreload\n",
      "%autoreload 2\n",
      "import os\n",
      "import matplotlib.pyplot as plt\n",
      "import my_pycaffe as mp\n",
      "expDir  = '/work4/pulkitag-code/pkgs/caffe-v2-2/modelFiles/mnist/classify_rot'\n",
      "codeDir = '/work4/pulkitag-code/pkgs/caffe-v2-2/modelFiles/mnist/code'\n",
      "currDir = os.getcwd()\n",
      "os.chdir(codeDir)\n",
      "import make_rotations as mr\n",
      "os.chdir(currDir)\n"
     ],
     "language": "python",
     "metadata": {},
     "outputs": []
    },
    {
     "cell_type": "code",
     "collapsed": false,
     "input": [
      "#Show the first layer weights of the different networks that I have trained.  \n",
      "#The number of examples for which labels were provided. \n",
      "numLabels = [1e+02, 1e+03, 1e+04]\n",
      "numEx     = 1e+06\n"
     ],
     "language": "python",
     "metadata": {},
     "outputs": []
    }
   ],
   "metadata": {}
  }
 ]
}