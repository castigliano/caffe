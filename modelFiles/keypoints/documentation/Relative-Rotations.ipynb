{
 "metadata": {
  "name": ""
 },
 "nbformat": 3,
 "nbformat_minor": 0,
 "worksheets": [
  {
   "cells": [
    {
     "cell_type": "markdown",
     "metadata": {},
     "source": [
      "Initially I was making an error that mirror flipping was on while predicting the relative rotations. Even with this I got some reasonable weights while training from scratch. They are plotted below. \n"
     ]
    },
    {
     "cell_type": "code",
     "collapsed": false,
     "input": [
      "import caffe\n",
      "import os\n",
      "import my_pycaffe as mp\n",
      "expDir = '/work4/pulkitag-code/pkgs/caffe-v2-2/modelFiles/keypoints/exp/'\n",
      "expStr = 'rotObjs_128_kmedoids30_20'\n",
      "defFile = os.path.join(expDir, expStr, 'caffenet_siamese.prototxt')\n"
     ],
     "language": "python",
     "metadata": {},
     "outputs": []
    }
   ],
   "metadata": {}
  }
 ]
}